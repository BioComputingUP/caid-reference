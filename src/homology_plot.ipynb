{
 "cells": [
  {
   "cell_type": "code",
   "execution_count": null,
   "id": "1e41093f",
   "metadata": {
    "ExecuteTime": {
     "end_time": "2025-03-24T10:10:01.735568Z",
     "start_time": "2025-03-24T10:10:01.733036Z"
    }
   },
   "outputs": [],
   "source": [
    "import matplotlib.pyplot as plt\n",
    "import pandas as pd\n",
    "import sys"
   ]
  },
  {
   "cell_type": "code",
   "execution_count": null,
   "id": "963bed18",
   "metadata": {
    "ExecuteTime": {
     "end_time": "2025-03-24T10:10:01.781014Z",
     "start_time": "2025-03-24T10:10:01.778494Z"
    }
   },
   "outputs": [],
   "source": [
    "homology_file = \"../data/output/homology/homology.tsv\"\n",
    "\n",
    "# Output\n",
    "homology_plot = \"../data/output/homology/homology.png\"\n",
    "homology_table = \"../data/output/homology/homology_filters.tsv\""
   ]
  },
  {
   "cell_type": "code",
   "execution_count": null,
   "id": "f99cc0c8",
   "metadata": {
    "ExecuteTime": {
     "end_time": "2025-03-24T10:10:01.839933Z",
     "start_time": "2025-03-24T10:10:01.828361Z"
    }
   },
   "outputs": [],
   "source": [
    "df = pd.read_csv(homology_file, sep='\\t', na_values=['None'])\n",
    "df"
   ]
  },
  {
   "cell_type": "code",
   "execution_count": null,
   "id": "8a32f11e",
   "metadata": {
    "ExecuteTime": {
     "end_time": "2025-03-24T11:11:55.044015Z",
     "start_time": "2025-03-24T11:11:53.024969Z"
    }
   },
   "outputs": [],
   "source": [
    "font = {'size'   : 32}\n",
    "plt.rc('font', **font)\n",
    "\n",
    "columns = ['blast_id', 'local_id', 'global_id']\n",
    "titles = ['BLAST', 'Local', 'Global']\n",
    "dbs = ['DisProt-Old', 'PDB-Seqres']\n",
    "\n",
    "fig, axes = plt.subplots(2, 3, figsize=(40, 20))\n",
    "\n",
    "for i, (db, df_g) in enumerate(df.groupby(\"db\")):\n",
    "\n",
    "    # print(df_g)\n",
    "    df_g.hist(ax=axes[i,:], bins=[i for i in range(0, 101, 5)], rwidth=0.9, column=columns)\n",
    "\n",
    "    # Vertical lines and bar height\n",
    "    for j, (ax, title) in enumerate(zip(axes[i,:].reshape(-1), titles)):\n",
    "        # if j in [0, 1]:\n",
    "        #     ax.set_ylabel(dbs[i], labelpad=40, fontdict=font)\n",
    "        ax.set_ylabel(\"Alignments\", labelpad=40, fontdict=font)\n",
    "        ax.set_xlabel(\"Sequence identity (%)\", labelpad=20, fontdict=font)\n",
    "        ax.set_title(\"CAID3 Vs. {} - {}\".format(dbs[i], title), pad=40)\n",
    "\n",
    "        # ax.axvline(30, lw=4, color='red', linestyle='--')\n",
    "\n",
    "\n",
    "        mean = df_g.iloc[:, j*2+3].mean()\n",
    "        median = df_g.iloc[:, j*2+3].median()\n",
    "\n",
    "        print(db,columns[j],title, mean, median)\n",
    "\n",
    "        # ax.axvline(mean, lw=4, color='black', linestyle='--')\n",
    "        ax.axvline(median, lw=4, color='red', linestyle='--')\n",
    "\n",
    "        for p in ax.patches:\n",
    "            ax.annotate(str(int(p.get_height())), (p.get_x() + p.get_width() / 2.0, p.get_height() + 1.0), ha='center', va='bottom', fontsize=18)\n",
    "\n",
    "\n",
    "        bottom, top = ax.get_ylim()\n",
    "        ax.set_ylim(0, top*1.1)\n",
    "\n",
    "\n",
    "plt.tight_layout()\n",
    "fig.savefig(homology_plot, bbox_inches='tight')\n"
   ]
  },
  {
   "cell_type": "code",
   "execution_count": null,
   "id": "6c2dcb56",
   "metadata": {
    "ExecuteTime": {
     "end_time": "2025-03-24T10:10:03.962673Z",
     "start_time": "2025-03-24T10:10:03.946006Z"
    }
   },
   "outputs": [],
   "source": [
    "df['no_pdb_blast'] = 0\n",
    "df.loc[(df['db'] == 'pdb') & (df['blast_id'] < 30.0), 'no_pdb_blast'] = 1\n",
    "\n",
    "df['no_disprot_blast'] = 0\n",
    "df.loc[(df['db'] == 'disprot') & (df['blast_id'] < 30.0), 'no_disprot_blast'] = 1\n",
    "\n",
    "df['no_pdb_local'] = 0\n",
    "df.loc[(df['db'] == 'pdb') & (df['local_id'] < 30.0), 'no_pdb_local'] = 1\n",
    "\n",
    "df['no_disprot_local'] = 0\n",
    "df.loc[(df['db'] == 'disprot') & (df['local_id'] < 30.0), 'no_disprot_local'] = 1\n",
    "\n",
    "df['no_pdb_global'] = 0\n",
    "df.loc[(df['db'] == 'pdb') & (df['global_id'] < 30.0), 'no_pdb_global'] = 1\n",
    "\n",
    "df['no_disprot_global'] = 0\n",
    "df.loc[(df['db'] == 'disprot') & (df['global_id'] < 30.0), 'no_disprot_global'] = 1\n",
    "\n",
    "df.to_csv(homology_table, sep=\"\\t\", index=False)\n",
    "df"
   ]
  }
 ],
 "metadata": {
  "kernelspec": {
   "display_name": "Python 3 (ipykernel)",
   "language": "python",
   "name": "python3"
  },
  "language_info": {
   "codemirror_mode": {
    "name": "ipython",
    "version": 3
   },
   "file_extension": ".py",
   "mimetype": "text/x-python",
   "name": "python",
   "nbconvert_exporter": "python",
   "pygments_lexer": "ipython3",
   "version": "3.9.7"
  }
 },
 "nbformat": 4,
 "nbformat_minor": 5
}
