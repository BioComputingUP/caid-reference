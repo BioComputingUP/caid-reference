{
 "cells": [
  {
   "cell_type": "code",
   "execution_count": null,
   "id": "36b88bb3",
   "metadata": {
    "ExecuteTime": {
     "end_time": "2025-03-28T07:55:26.863831Z",
     "start_time": "2025-03-28T07:55:26.338138Z"
    }
   },
   "outputs": [],
   "source": [
    "import pandas as pd\n",
    "import os\n",
    "import matplotlib\n",
    "import matplotlib.pyplot as plt\n",
    "import matplotlib.patches as mpatches"
   ]
  },
  {
   "cell_type": "code",
   "execution_count": null,
   "id": "29b012e2",
   "metadata": {
    "ExecuteTime": {
     "end_time": "2025-03-28T07:55:26.874816Z",
     "start_time": "2025-03-28T07:55:26.872338Z"
    }
   },
   "outputs": [],
   "source": [
    "# Input\n",
    "dataset_raw_file = \"../data/output/dataset_raw.tsv\"\n",
    "datase_file = \"../data/output/dataset.tsv\"\n",
    "references_dir = \"../data/output/references\"\n",
    "ncbi_tax_file = \"../data/new_taxdump/rankedlineage.dmp\"\n",
    "\n",
    "# Output\n",
    "fig_dir = \"../data/output/references_stat\""
   ]
  },
  {
   "cell_type": "code",
   "execution_count": null,
   "id": "f9b50ae3f55f7593",
   "metadata": {
    "ExecuteTime": {
     "end_time": "2025-03-28T07:55:26.947183Z",
     "start_time": "2025-03-28T07:55:26.924593Z"
    }
   },
   "outputs": [],
   "source": [
    "df_dataset = pd.read_csv(dataset_raw_file, sep=\"\\t\")\n",
    "df_dataset.columns"
   ]
  },
  {
   "cell_type": "code",
   "execution_count": null,
   "id": "aa59c72a8eb09755",
   "metadata": {
    "ExecuteTime": {
     "end_time": "2025-03-28T07:55:26.995101Z",
     "start_time": "2025-03-28T07:55:26.978427Z"
    }
   },
   "outputs": [],
   "source": [
    "df_dataset"
   ]
  },
  {
   "cell_type": "code",
   "execution_count": null,
   "id": "da9b7766d71a47a6",
   "metadata": {
    "ExecuteTime": {
     "end_time": "2025-03-28T07:55:27.442836Z",
     "start_time": "2025-03-28T07:55:27.090310Z"
    }
   },
   "outputs": [],
   "source": [
    "tuples = []\n",
    "for reference_file in os.listdir(references_dir):\n",
    "    with open(\"{}/{}\".format(references_dir, reference_file)) as f:\n",
    "        data = {}\n",
    "        reference_name = reference_file.split(\".\")[0]\n",
    "        group = None\n",
    "        for k in ['linker', 'binding', 'disorder']:  # order matters\n",
    "            if k in reference_name:\n",
    "                group = k\n",
    "                break\n",
    "        for line in f:\n",
    "            if line:\n",
    "                if line[0] == \">\":\n",
    "                    name = line.strip()[1:]\n",
    "                    data.setdefault(name, [])\n",
    "                else:\n",
    "                    data[name].append(list(line.strip()))\n",
    "        for name in data:\n",
    "            for i, (aa, val) in enumerate(zip(*data[name])):\n",
    "                tuples.append((group, reference_name, name, i + 1, aa, val))\n",
    "df_references = pd.DataFrame(tuples, columns=['group', 'reference', 'disprot_id', 'pos', 'aa', 'value'])\n",
    "df_references.set_index(['group', 'reference', 'disprot_id', 'pos', 'aa'], inplace=True)\n",
    "df_references"
   ]
  },
  {
   "cell_type": "markdown",
   "id": "891541d41e2a691d",
   "metadata": {
    "collapsed": false
   },
   "source": [
    "# Number of proteins"
   ]
  },
  {
   "cell_type": "code",
   "execution_count": null,
   "id": "f0ac0f89d5d8e711",
   "metadata": {
    "ExecuteTime": {
     "end_time": "2025-03-28T07:55:27.613370Z",
     "start_time": "2025-03-28T07:55:27.519770Z"
    }
   },
   "outputs": [],
   "source": [
    "plt.rcParams.update({'font.size': 22, 'grid.linestyle': '-', 'grid.color': 'gray' })\n",
    "\n",
    "for group, df_g in df_references.groupby(level='group'):\n",
    "    df2 = df_g.reset_index(level='disprot_id').groupby(['reference'])['disprot_id'].nunique().reset_index().set_index('reference')\n",
    "    print(df2)\n",
    "\n",
    "    # fig, ax = plt.subplots(figsize=(5, 5))\n",
    "    # df2.plot(kind='barh', width=0.5, ax=ax)\n",
    "    # ax.xaxis.grid()\n",
    "    # ax.set_ybound(-1, 4)\n",
    "    # ax.get_legend().remove()\n",
    "    # ax.set_xlabel('Proteins', labelpad=30)\n",
    "    #\n",
    "    # fig.gca().set_ylabel(\"\")\n",
    "    # fig.savefig(\"{}/stat_proteins_{}.png\".format(fig_dir, group), dpi=300, bbox_inches='tight')"
   ]
  },
  {
   "cell_type": "markdown",
   "id": "37ab48cd5e1516bf",
   "metadata": {
    "collapsed": false
   },
   "source": [
    "# Class content"
   ]
  },
  {
   "cell_type": "code",
   "execution_count": null,
   "id": "277d9b7703889015",
   "metadata": {
    "ExecuteTime": {
     "end_time": "2025-03-28T07:55:28.279470Z",
     "start_time": "2025-03-28T07:55:27.659243Z"
    }
   },
   "outputs": [],
   "source": [
    "# Paper figure\n",
    "plt.rcParams.update({'font.size': 42, 'savefig.transparent': True})\n",
    "challenges = ['disorder_nox', 'disorder_pdb', 'binding', 'linker']\n",
    "colors = {'0': 'white', '1': 'black'}\n",
    "\n",
    "df2 = df_references.reset_index()\n",
    "df2 = df2.loc[df2['reference'].isin(challenges), ['reference', 'value']].value_counts().unstack('value').fillna(0).sort_values(by=['reference'], ascending=[False]).drop(columns=['-']).sort_index(level='reference', key=lambda x: x.map(\n",
    "    {challenge: i for i, challenge in enumerate(challenges)}), ascending=False)\n",
    "df2['pos_ratio'] = df2['1'] * 100 / (df2['1'] + df2['0'])\n",
    "print(df2)\n",
    "\n",
    "fig, ax = plt.subplots(figsize=(12, 6))\n",
    "axes = df2.plot(kind='barh', stacked=True, ax=ax, edgecolor='black', color=[colors['0'], colors['1']], linewidth=3)\n",
    "ax.xaxis.grid()\n",
    "ax.set_xlabel('No. residues', labelpad=30)\n",
    "ax.xaxis.set_major_formatter( matplotlib.ticker.FuncFormatter(lambda x, p: format(int(x), ',')))\n",
    "ax.tick_params(axis='x', labelrotation=45)\n",
    "\n",
    "ax.get_legend().remove()\n",
    "ax.set_xlim(0, 120000)\n",
    "\n",
    "# Add counts above the two bar graphs\n",
    "for rect, row in zip(axes.patches[4:], df2.iterrows()):\n",
    "    print(rect, row[1]['pos_ratio'])\n",
    "    y = rect.get_y()\n",
    "    x = rect.get_x()\n",
    "    width = rect.get_width()\n",
    "    height = rect.get_height()\n",
    "    plt.text(x + width + 20000, y, \"{:.1f}%\".format(row[1]['pos_ratio']), ha='center', va='bottom')\n",
    "\n",
    "fig.gca().set_ylabel(\"\")\n",
    "fig.savefig(\"{}/stat_residues_paper.png\".format(fig_dir), dpi=300, bbox_inches='tight')"
   ]
  },
  {
   "cell_type": "code",
   "execution_count": null,
   "id": "1ab9edd0cc489f66",
   "metadata": {
    "ExecuteTime": {
     "end_time": "2025-03-28T07:55:28.449684Z",
     "start_time": "2025-03-28T07:55:28.307173Z"
    }
   },
   "outputs": [],
   "source": [
    "references = ['disorder_nox', 'disorder_pdb', 'binding', 'linker']\n",
    "df_g = df_references.reset_index().set_index('reference')\n",
    "df_g = df_g.loc[references]\n",
    "df_ = df_g.groupby(['disprot_id', 'reference', 'value']).agg({'pos': 'count'}).reset_index()\n",
    "df_ = df_.loc[df_['value'] != '-']\n",
    "df_tot = df_.groupby(['disprot_id', 'reference']).agg({'pos': 'sum'})\n",
    "df_ = pd.merge(df_, df_tot, on=['disprot_id', 'reference'])\n",
    "df_['fraction'] = df_['pos_x'] / df_['pos_y']\n",
    "df_\n"
   ]
  },
  {
   "cell_type": "code",
   "execution_count": null,
   "id": "2154f31c41da47ff",
   "metadata": {
    "ExecuteTime": {
     "end_time": "2025-03-28T07:55:30.250425Z",
     "start_time": "2025-03-28T07:55:28.525134Z"
    }
   },
   "outputs": [],
   "source": [
    "# Paper figure disorder content\n",
    "plt.rcParams.update({'font.size': 42, 'savefig.transparent': True})\n",
    "\n",
    "positions = [2,3,6,7,4,5,0,1]\n",
    "# colors = {'0': '#1f77b4', '1': '#ff7f0e'}\n",
    "colors = {'0': 'white', '1': 'black'}\n",
    "\n",
    "fig, axes = plt.subplots(2,1, figsize=(20, 30))\n",
    "\n",
    "bp = df_.loc[:, ['reference', 'value', 'pos_x']].boxplot(by=['reference', 'value'], ax=axes[0], vert=False, positions=positions, showfliers=False, return_type='dict', patch_artist=True, whiskerprops=dict(linestyle='-',linewidth=3.0, color='black'), medianprops=dict(linewidth=3.0, color='red'), boxprops=dict(linewidth=3.0, color='black'), capprops=dict(linewidth=3.0))\n",
    "\n",
    "\n",
    "bp_fraction = df_.loc[:, ['reference', 'value', 'fraction']].boxplot(by=['reference', 'value'], ax=axes[1], vert=False, positions=positions, showfliers=False, return_type='dict', patch_artist=True, whiskerprops=dict(linestyle='-',linewidth=3.0, color='black'), medianprops=dict(linewidth=3.0, color='red'), boxprops=dict(linewidth=3.0, color='black'), capprops=dict(linewidth=3.0))\n",
    "\n",
    "for ax in axes:\n",
    "    labels = [item.get_text()[1:-1].split(\",\")[0] for item in ax.get_yticklabels()]\n",
    "    ax.set_yticklabels(labels)\n",
    "    ax.set_ylabel(\"\")\n",
    "    ax.get_figure().suptitle('')\n",
    "    ax.set_title(\"\")\n",
    "\n",
    "axes[1].set_xlabel('Protein content (%)', labelpad=30)\n",
    "axes[0].set_xlabel('Protein content (no. residues)', labelpad=30)\n",
    "\n",
    "# Bar colors\n",
    "for patch, (label, df_g) in zip(bp_fraction['fraction']['boxes'], df_.groupby(['reference', 'value'])):\n",
    "    patch.set_facecolor(colors[label[1]])\n",
    "    print(label)\n",
    "positive = mpatches.Patch(label='Positive', color=colors['1'])\n",
    "negative = mpatches.Patch(label='Negative', color=colors['0'])\n",
    "\n",
    "for patch, (label, df_g) in zip(bp['pos_x']['boxes'], df_.groupby(['reference', 'value'])):\n",
    "    patch.set_facecolor(colors[label[1]])\n",
    "positive = mpatches.Patch(label='Positive', color=colors['1'])\n",
    "negative = mpatches.Patch(label='Negative', color=colors['0'])\n",
    "\n",
    "# Legend\n",
    "# handles, labels = ax.get_legend_handles_labels()\n",
    "# fig.legend(handles=[positive, negative], loc='upper center', ncol=2, bbox_to_anchor=(.6, 1.0), frameon=False)\n",
    "fig.tight_layout(pad=3.0)\n",
    "fig.savefig(\"{}/stat_content_paper.png\".format(fig_dir), dpi=300, bbox_inches='tight')"
   ]
  },
  {
   "cell_type": "code",
   "execution_count": null,
   "id": "94902d10f9468055",
   "metadata": {
    "ExecuteTime": {
     "end_time": "2025-03-28T07:55:31.981777Z",
     "start_time": "2025-03-28T07:55:30.274285Z"
    }
   },
   "outputs": [],
   "source": [
    "# WARNING: just for comparison, to check how the content change when considering the same set of proteins\n",
    "# Disorder content disorder-nox vs disorder-pdb\n",
    "plt.rcParams.update({'font.size': 42, 'savefig.transparent': True})\n",
    "\n",
    "positions = [2,3,6,7,4,5,0,1]\n",
    "# colors = {'0': '#1f77b4', '1': '#ff7f0e'}\n",
    "colors = {'0': 'white', '1': 'black'}\n",
    "\n",
    "fig, axes = plt.subplots(2,1, figsize=(20, 30))\n",
    "\n",
    "protein_nox = df_.loc[df_['reference']=='disorder_nox']['disprot_id'].unique()\n",
    "\n",
    "bp = df_.loc[df_['disprot_id'].isin(protein_nox), ['reference', 'value', 'pos_x']].boxplot(by=['reference', 'value'], ax=axes[0], vert=False, positions=positions, showfliers=False, return_type='dict', patch_artist=True, whiskerprops=dict(linestyle='-',linewidth=3.0, color='black'), medianprops=dict(linewidth=3.0, color='red'), boxprops=dict(linewidth=3.0, color='black'), capprops=dict(linewidth=3.0))\n",
    "\n",
    "\n",
    "bp_fraction = df_.loc[df_['disprot_id'].isin(protein_nox), ['reference', 'value', 'fraction']].boxplot(by=['reference', 'value'], ax=axes[1], vert=False, positions=positions, showfliers=False, return_type='dict', patch_artist=True, whiskerprops=dict(linestyle='-',linewidth=3.0, color='black'), medianprops=dict(linewidth=3.0, color='red'), boxprops=dict(linewidth=3.0, color='black'), capprops=dict(linewidth=3.0))\n",
    "\n",
    "for ax in axes:\n",
    "    labels = [item.get_text()[1:-1].split(\",\")[0] for item in ax.get_yticklabels()]\n",
    "    ax.set_yticklabels(labels)\n",
    "    ax.set_ylabel(\"\")\n",
    "    ax.get_figure().suptitle('')\n",
    "    ax.set_title(\"\")\n",
    "\n",
    "axes[1].set_xlabel('Protein content (%)', labelpad=30)\n",
    "axes[0].set_xlabel('Protein content (no. residues)', labelpad=30)\n",
    "\n",
    "# Bar colors\n",
    "for patch, (label, df_g) in zip(bp_fraction['fraction']['boxes'], df_.groupby(['reference', 'value'])):\n",
    "    patch.set_facecolor(colors[label[1]])\n",
    "    print(label)\n",
    "positive = mpatches.Patch(label='Positive', color=colors['1'])\n",
    "negative = mpatches.Patch(label='Negative', color=colors['0'])\n",
    "\n",
    "for patch, (label, df_g) in zip(bp['pos_x']['boxes'], df_.groupby(['reference', 'value'])):\n",
    "    patch.set_facecolor(colors[label[1]])\n",
    "positive = mpatches.Patch(label='Positive', color=colors['1'])\n",
    "negative = mpatches.Patch(label='Negative', color=colors['0'])\n",
    "\n",
    "# Legend\n",
    "# handles, labels = ax.get_legend_handles_labels()\n",
    "# fig.legend(handles=[positive, negative], loc='upper center', ncol=2, bbox_to_anchor=(.6, 1.0), frameon=False)\n",
    "fig.tight_layout(pad=3.0)\n",
    "fig.savefig(\"{}/stat_content_paper_only_nox.png\".format(fig_dir), dpi=300, bbox_inches='tight')"
   ]
  },
  {
   "cell_type": "markdown",
   "id": "95f2236a95631dc",
   "metadata": {
    "collapsed": false
   },
   "source": [
    "\n",
    "# Taxonomy"
   ]
  },
  {
   "cell_type": "code",
   "execution_count": null,
   "id": "cc82d642b259bc3a",
   "metadata": {
    "ExecuteTime": {
     "end_time": "2025-03-28T07:55:35.096291Z",
     "start_time": "2025-03-28T07:55:31.992248Z"
    }
   },
   "outputs": [],
   "source": [
    "# ftp://ftp.ncbi.nih.gov/pub/taxonomy/new_taxdump\n",
    "df_tax = pd.read_csv(ncbi_tax_file, sep=\"|\", header=0, names=['id', '0', '1', '2', '3', '4', '5'], usecols=[0,3,4,5,6,7,9])\n",
    "for i in df_tax.columns:\n",
    "    if df_tax[i].dtype == 'object':\n",
    "        df_tax[i] = df_tax[i].map(str.strip)\n",
    "df_tax"
   ]
  },
  {
   "cell_type": "code",
   "execution_count": null,
   "id": "26146693fa4f8c2",
   "metadata": {
    "ExecuteTime": {
     "end_time": "2025-03-28T07:55:35.805056Z",
     "start_time": "2025-03-28T07:55:35.138512Z"
    }
   },
   "outputs": [],
   "source": [
    "df_references_tax = pd.merge(df_references.reset_index(), df_dataset.loc[:,['disprot_id', 'ncbi_taxon_id']], left_on='disprot_id', right_on='disprot_id', how='left')\n",
    "df_references_tax = pd.merge(df_references_tax, df_tax, left_on='ncbi_taxon_id', right_on='id', how='left')\n",
    "df_references_tax"
   ]
  },
  {
   "cell_type": "code",
   "execution_count": null,
   "id": "3ec48a76684749e4",
   "metadata": {
    "ExecuteTime": {
     "end_time": "2025-03-28T07:55:36.068843Z",
     "start_time": "2025-03-28T07:55:35.876985Z"
    }
   },
   "outputs": [],
   "source": [
    "challenges = ['disorder_nox', 'disorder_pdb', 'binding']\n",
    "df_ = df_references_tax.loc[df_references_tax['reference'].isin(challenges),['reference', 'disprot_id', '5']].drop_duplicates().groupby(['reference', '5']).count()\n",
    "df_ = df_.reset_index()\n",
    "df_ = df_.pivot(index='5', columns='reference', values='disprot_id')\n",
    "df_"
   ]
  },
  {
   "cell_type": "code",
   "execution_count": null,
   "id": "1fdbf9d86213f624",
   "metadata": {
    "ExecuteTime": {
     "end_time": "2025-03-28T07:55:36.806538Z",
     "start_time": "2025-03-28T07:55:36.195875Z"
    }
   },
   "outputs": [],
   "source": [
    "plt.rcParams.update({'font.size': 22, 'xtick.labelsize': 22, 'ytick.labelsize': 22})\n",
    "axes = df_.plot.pie(subplots=True, figsize=(20, 10), explode=(0.05, 0.05, 0.05), legend=False, layout=(1,3), autopct='%1.1f%%', startangle=30)\n",
    "for ax, title in zip(axes.reshape(-1), challenges):\n",
    "    ax.set_title(title, pad=10, loc='center')\n",
    "    ax.set_ylabel('')\n",
    "\n",
    "plt.savefig(\"{}/stat_tax.png\".format(fig_dir), dpi=300, bbox_inches='tight')"
   ]
  },
  {
   "cell_type": "markdown",
   "id": "4a029da15c811050",
   "metadata": {
    "collapsed": false
   },
   "source": [
    "# Dataset size"
   ]
  },
  {
   "cell_type": "code",
   "execution_count": null,
   "id": "45bb3a3500486e97",
   "metadata": {
    "ExecuteTime": {
     "end_time": "2025-03-28T07:55:37.363592Z",
     "start_time": "2025-03-28T07:55:36.855004Z"
    }
   },
   "outputs": [],
   "source": [
    "# https://towardsdatascience.com/professional-venn-diagrams-in-python-638abfff39cc\n",
    "plt.rcParams.update({'font.size': 22, 'grid.linestyle': '-', 'grid.color': 'gray' })\n",
    "\n",
    "from matplotlib_venn import venn3, venn3_circles\n",
    "\n",
    "colors = ['#2077B5', '#FF7F0D', '#D72828']\n",
    "labels = ['disorder_pdb', 'disorder_nox', 'binding']\n",
    "df_ = df_references.reset_index()\n",
    "sets = [set(df_.loc[df_['reference'] == label, 'disprot_id']) for label in labels]\n",
    "\n",
    "plt.figure(figsize=(7, 7))\n",
    "v = venn3(subsets=sets, set_labels=labels, alpha=.0)\n",
    "\n",
    "labels = ['100', '101', '110', '010', '001', '011', '111']\n",
    "positions = [(1.2, 1), (.9, .85), (1, 1), (1, 1), (1, 1), (1, 1), (1, 1)]\n",
    "for i, (label, pos) in enumerate(zip(labels, positions)):\n",
    "    lbl = v.get_label_by_id(label)\n",
    "    if lbl:\n",
    "        x, y = lbl.get_position()\n",
    "        # print(label, x, y)\n",
    "        lbl.set_position((x * pos[0], y * pos[1]))\n",
    "\n",
    "for i, (text, pos) in enumerate(zip(v.set_labels, [(1.3, 0.8), (1.2, 1), (3.5, .7)])):\n",
    "    x, y = text.get_position()\n",
    "    print(text, x, y)\n",
    "    text.set_position((x * pos[0], y * pos[1]))\n",
    "    text.set_color(colors[i])\n",
    "\n",
    "circles = venn3_circles(subsets=sets)\n",
    "for color, circle in zip(colors, circles):\n",
    "    circle.set_edgecolor(color)\n",
    "    circle.set_linewidth(6)\n",
    "\n",
    "plt.savefig(\"{}/stat_venn.png\".format(fig_dir), dpi=300, bbox_inches='tight')"
   ]
  },
  {
   "cell_type": "markdown",
   "id": "5d9a84c4ea474951",
   "metadata": {
    "collapsed": false
   },
   "source": [
    "# Evidence distribution"
   ]
  },
  {
   "cell_type": "code",
   "execution_count": null,
   "id": "ddd47e3da41c2ece",
   "metadata": {
    "ExecuteTime": {
     "end_time": "2025-03-28T07:55:37.387915Z",
     "start_time": "2025-03-28T07:55:37.371217Z"
    }
   },
   "outputs": [],
   "source": [
    "df_dataset"
   ]
  },
  {
   "cell_type": "code",
   "execution_count": null,
   "id": "b17ae2b52395760",
   "metadata": {
    "ExecuteTime": {
     "end_time": "2025-03-28T07:55:37.463336Z",
     "start_time": "2025-03-28T07:55:37.460419Z"
    }
   },
   "outputs": [],
   "source": [
    "def expand_region(df_:pd.DataFrame, start_col:str='start', end_col:str='end', res_col:str='reg_position') -> pd.DataFrame:\n",
    "    df_[res_col] = list(range(int(df_[start_col]), int(df_[end_col]) + 1, 1))\n",
    "    return df_"
   ]
  },
  {
   "cell_type": "code",
   "execution_count": null,
   "id": "eba951ba81c949c1",
   "metadata": {
    "ExecuteTime": {
     "end_time": "2025-03-28T07:55:37.821813Z",
     "start_time": "2025-03-28T07:55:37.506919Z"
    }
   },
   "outputs": [],
   "source": [
    "df_pos = df_dataset.apply(expand_region, axis=1).explode(\"reg_position\")\n",
    "df_pos"
   ]
  },
  {
   "cell_type": "code",
   "execution_count": null,
   "id": "c8900c2caea7d13c",
   "metadata": {
    "ExecuteTime": {
     "end_time": "2025-03-28T07:55:37.869087Z",
     "start_time": "2025-03-28T07:55:37.848578Z"
    }
   },
   "outputs": [],
   "source": [
    "df_1 = df_pos.groupby(['challenge', 'disprot_id', 'ec_name'], as_index=False)['reg_position'].nunique().groupby(['challenge', 'ec_name'], as_index=False)[['ec_name', 'reg_position']].sum()\n",
    "# df_1 = df_pos.groupby(['challenge', 'ec_name'], as_index=False)['reg_position'].count()  # count also residues annotated with the same technique multiple times\n",
    "df_1"
   ]
  },
  {
   "cell_type": "code",
   "execution_count": null,
   "id": "d9971a84d05cb7af",
   "metadata": {
    "ExecuteTime": {
     "end_time": "2025-03-28T07:55:37.999138Z",
     "start_time": "2025-03-28T07:55:37.986023Z"
    }
   },
   "outputs": [],
   "source": [
    "df_2 = df_pos.groupby(['challenge', 'disprot_id'], as_index=False)['reg_position'].nunique().groupby(['challenge'], as_index=False)['reg_position'].sum()\n",
    "df_2"
   ]
  },
  {
   "cell_type": "code",
   "execution_count": null,
   "id": "b3cb10b25c4d9d3c",
   "metadata": {
    "ExecuteTime": {
     "end_time": "2025-03-28T07:55:38.073215Z",
     "start_time": "2025-03-28T07:55:38.063587Z"
    }
   },
   "outputs": [],
   "source": [
    "df_ec = pd.merge(df_1, df_2, on=['challenge']).rename(\n",
    "    {'reg_position_x': 'count', 'reg_position_y': 'total'}, axis=1).sort_values(by=['challenge', 'count'], ascending=[True, True])\n",
    "df_ec"
   ]
  },
  {
   "cell_type": "code",
   "execution_count": null,
   "id": "e5e1c7b3ae8368ce",
   "metadata": {
    "ExecuteTime": {
     "end_time": "2025-03-28T07:55:38.192098Z",
     "start_time": "2025-03-28T07:55:38.184683Z"
    }
   },
   "outputs": [],
   "source": [
    "df_ec['fraction'] = df_ec['count'] / df_ec['total']\n",
    "df_ec"
   ]
  },
  {
   "cell_type": "code",
   "execution_count": null,
   "id": "7b1ce2dabf404071",
   "metadata": {
    "ExecuteTime": {
     "end_time": "2025-03-28T07:55:42.873043Z",
     "start_time": "2025-03-28T07:55:38.414820Z"
    }
   },
   "outputs": [],
   "source": [
    "for challenge, df_g in df_ec.groupby('challenge'):\n",
    "    print(challenge)\n",
    "    fig, ax = plt.subplots(figsize=(10, 10))\n",
    "    df_g['ec_name'] = df_g['ec_name'].map(lambda x: x.split('evidence')[0].split('used')[0])\n",
    "    df_g.set_index('ec_name')['fraction'].iloc[-20:].plot(kind='barh', ax=ax)\n",
    "    ax.xaxis.grid()\n",
    "    ax.set_xlabel('Coverage', labelpad=30)\n",
    "\n",
    "    # plt.title(challenge)\n",
    "    fig.gca().set_ylabel(\"\")\n",
    "    ax.set_ybound(-1, 20)\n",
    "\n",
    "    fig.gca().set_ylabel(\"\")\n",
    "    fig.savefig(\"{}/stat_ec_{}.png\".format(fig_dir, challenge), dpi=300, bbox_inches='tight')\n",
    "    # break"
   ]
  },
  {
   "cell_type": "code",
   "execution_count": null,
   "id": "b417c9aa978ea058",
   "metadata": {
    "ExecuteTime": {
     "end_time": "2025-03-28T08:57:18.823823Z",
     "start_time": "2025-03-28T08:57:16.566988Z"
    }
   },
   "outputs": [],
   "source": [
    "challenges_list = ['disorder', 'binding']\n",
    "\n",
    "# Get labels and colors\n",
    "# labels = set()\n",
    "# for challenge, df_g in df_ec.groupby('challenge'):\n",
    "#     if challenge in challenges_list:\n",
    "#         df_g['ec_name'] = df_g['ec_name'].map(lambda x: x.split('evidence')[0].split('used')[0])\n",
    "#         labels.update(set(df_g.sort_values('fraction', ascending=False).iloc[:20]['ec_name']))\n",
    "# print(len(labels))\n",
    "# print(\"\\n\".join(labels))\n",
    "\n",
    "# tab20\n",
    "#1f77b4\n",
    "#aec7e8\n",
    "\n",
    "#ff7f0e\n",
    "#ffbb78\n",
    "\n",
    "#2ca02c\n",
    "#98df8a\n",
    "\n",
    "#d62728\n",
    "#ff9896\n",
    "\n",
    "#9467bd\n",
    "#c5b0d5\n",
    "\n",
    "#8c564b\n",
    "#c49c94\n",
    "\n",
    "#e377c2\n",
    "#f7b6d2\n",
    "\n",
    "#7f7f7f\n",
    "#c7c7c7\n",
    "\n",
    "#bcbd22\n",
    "#dbdb8d\n",
    "\n",
    "#17becf\n",
    "#9edae5\n",
    "\n",
    "colors = {\n",
    "\n",
    "\n",
    "\"nuclear magnetic resonance\":\"#1f77b4\",\n",
    "\"nuclear magnetic resonance imaging\":\"#1f77b4\",\n",
    "\"nuclear magnetic resonance spectroscopy-based hydrogen-deuterium exchange\":\"#1f77b4\",\n",
    "\"proton-based nuclear magnetic resonance\":\"#1f77b4\",\n",
    "\"heteronuclear single quantum coherence spectroscopy\":\"#1f77b4\",\n",
    "\"nuclear magnetic resonance spectroscopy\": \"#1f77b4\",\n",
    "\n",
    "\"qualitative western immunoblotting\":\"#ff7f0e\",\n",
    "\"multiplex bead-based immunoassay\":\"#ff7f0e\",\n",
    "\"co-immunoprecipitation\": \"#ff7f0e\",\n",
    "\"immunoprecipitation\": \"#ff7f0e\",\n",
    "\"electrophoretic mobility shift assay\": \"#ff7f0e\",\n",
    "\"sodium dodecyl sulfate polyacrylamide gel electrophoresis\": \"#ff7f0e\",\n",
    "\"gel-filtration\": \"#ff7f0e\",\n",
    "\"glutathione S-transferase pull-down assay\":\"#ff7f0e\",\n",
    "\"affinity chromatography\":\"#ff7f0e\",\n",
    "\n",
    "\"microscopy\": \"#2ca02c\",\n",
    "\"electron microscopy\":\"#2ca02c\",\n",
    "\"cryogenic electron microscopy\":\"#2ca02c\",\n",
    "\"cryogenic electron microscopy-based structural model with missing residue coordinates\": \"#2ca02c\",\n",
    "\n",
    "\"isothermal titration calorimetry\": \"#d62728\",\n",
    "\"microscale thermophoresis\":\"#d62728\",\n",
    "\n",
    "\"fluorescence\":\"#9467bd\",\n",
    "\"yellow fluorescent protein fusion protein localization\":\"#9467bd\",\n",
    "\"intrinsic fluorescence-based protein conformation\": \"#9467bd\",\n",
    "\n",
    "\"far-UV circular dichroism\":\"#8c564b\",\n",
    "\n",
    "\"Fourier-transform infrared spectroscopy\":\"#e377c2\",\n",
    "\n",
    "\"author inference\":\"#7f7f7f\",\n",
    "\"combinatorial experimental and author inference\":\"#7f7f7f\",\n",
    "\n",
    "\"X-ray crystallography-based structural model with missing residue coordinates\":\"#bcbd22\",\n",
    "\n",
    "\"small-angle X-ray scattering\":\"#17becf\",\n",
    "\"dynamic light scattering assay\":\"#17becf\",\n",
    "\n",
    "\"yeast 2-hybrid\":\"#aec7e8\",\n",
    "\n",
    "\n",
    "\"in vitro assay\":\"#ffbb78\",\n",
    "\n",
    "\"protein fragment functional complementation\":\"#98df8a\",\n",
    "\n",
    "\"cross-linking\": \"#ff9896\",\n",
    "\n",
    "\"intrinsic disorder prediction\": \"#c5b0d5\",\n",
    "}\n",
    "\n",
    "fig, axes = plt.subplots(nrows=2, ncols=1, figsize=(15, 25))\n",
    "for challenge, df_g in df_ec.groupby('challenge'):\n",
    "    if challenge in challenges_list:\n",
    "        i = challenges_list.index(challenge)\n",
    "\n",
    "        df_g['ec_name'] = df_g['ec_name'].map(lambda x: x.split('evidence')[0].split('used')[0])\n",
    "        df_ = df_g.set_index('ec_name')['fraction'].iloc[-20:]\n",
    "        print(df_.index)\n",
    "        colors_ = [colors[ec_name.strip()] for ec_name in df_.index]\n",
    "        df_.plot(kind='barh', ax=axes[i], color=colors_)  # plt.cm.tab20c.colors\n",
    "\n",
    "        axes[i].xaxis.grid()\n",
    "        if i > 0:\n",
    "            axes[i].set_xlabel('Coverage', labelpad=30)\n",
    "\n",
    "        # plt.title(challenge)\n",
    "        axes[i].set_ybound(-1, 20)\n",
    "        axes[i].set_xlim(0,0.35)\n",
    "\n",
    "        axes[i].set_ylabel(\"\")\n",
    "fig.savefig(\"{}/stat_ec_paper.png\".format(fig_dir), dpi=300, bbox_inches='tight')\n"
   ]
  },
  {
   "cell_type": "code",
   "execution_count": null,
   "id": "475abee557d652ac",
   "metadata": {
    "ExecuteTime": {
     "end_time": "2025-03-28T07:55:43.928379979Z",
     "start_time": "2025-03-26T12:55:15.920577Z"
    }
   },
   "outputs": [],
   "source": [
    "df_pos"
   ]
  },
  {
   "cell_type": "code",
   "execution_count": null,
   "id": "f4a8023af94911fc",
   "metadata": {
    "ExecuteTime": {
     "end_time": "2025-03-28T07:55:43.929598144Z",
     "start_time": "2025-03-26T12:58:16.627042Z"
    }
   },
   "outputs": [],
   "source": [
    "df_ = df_pos.groupby(['challenge', 'disprot_id', 'reg_position'], as_index=False)['ec_name'].unique()\n",
    "df_"
   ]
  },
  {
   "cell_type": "code",
   "execution_count": null,
   "id": "f8f0529ffa79172e",
   "metadata": {
    "ExecuteTime": {
     "end_time": "2025-03-28T07:55:43.936863142Z",
     "start_time": "2025-03-26T13:29:45.771705Z"
    }
   },
   "outputs": [],
   "source": [
    "df__ = df_.loc[(df_['ec_name'].str.len() == 1)]\n",
    "df__['ec_name'] = df__['ec_name'].str[0]\n",
    "df__ = df__.groupby(['challenge', 'ec_name'], as_index=False)['reg_position'].nunique()\n",
    "df__"
   ]
  },
  {
   "cell_type": "code",
   "execution_count": null,
   "id": "bbb8c72431feca79",
   "metadata": {
    "ExecuteTime": {
     "end_time": "2025-03-28T07:55:43.937744196Z",
     "start_time": "2025-03-26T13:30:24.291452Z"
    }
   },
   "outputs": [],
   "source": [
    "df__.loc[df__['challenge'] == 'disorder'].sort_values('reg_position', ascending=False)"
   ]
  },
  {
   "cell_type": "code",
   "execution_count": null,
   "id": "4ed01c3420e39a95",
   "metadata": {
    "ExecuteTime": {
     "end_time": "2025-03-28T07:55:43.938301205Z",
     "start_time": "2025-03-26T13:31:29.840873Z"
    }
   },
   "outputs": [],
   "source": [
    "df__.groupby(['challenge'], as_index=False)['reg_position'].sum()"
   ]
  },
  {
   "cell_type": "code",
   "execution_count": null,
   "id": "b41d53fa454a8e6a",
   "metadata": {},
   "outputs": [],
   "source": []
  }
 ],
 "metadata": {
  "kernelspec": {
   "display_name": "Python 3 (ipykernel)",
   "language": "python",
   "name": "python3"
  },
  "language_info": {
   "codemirror_mode": {
    "name": "ipython",
    "version": 3
   },
   "file_extension": ".py",
   "mimetype": "text/x-python",
   "name": "python",
   "nbconvert_exporter": "python",
   "pygments_lexer": "ipython3",
   "version": "3.9.7"
  }
 },
 "nbformat": 4,
 "nbformat_minor": 5
}
